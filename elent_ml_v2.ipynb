{
 "cells": [
  {
   "cell_type": "markdown",
   "id": "ff3306fa",
   "metadata": {},
   "source": [
    "# Introduction to Machine Learning\n",
    "\n",
    "**Author:** Elen Tesfai  \n",
    "**GitHub Repository:** [Elen's GitHub Link](https://github.com/Elen-tesfai/datafun-07-ml)"
   ]
  },
  {
   "cell_type": "markdown",
   "id": "66cc0f09",
   "metadata": {},
   "source": [
    "# Data Analysis and Linear Regression on Salary Data"
   ]
  },
  {
   "cell_type": "markdown",
   "id": "03feff99",
   "metadata": {},
   "source": [
    "1. Import Statements:"
   ]
  },
  {
   "cell_type": "code",
   "execution_count": 1,
   "id": "f647520b",
   "metadata": {},
   "outputs": [],
   "source": [
    "import numpy as np\n",
    "import pandas as pd\n",
    "import matplotlib.pyplot as plt\n",
    "import seaborn as sns\n",
    "from sklearn.model_selection import train_test_split\n",
    "from sklearn.linear_model import LinearRegression"
   ]
  },
  {
   "cell_type": "markdown",
   "id": "93df6ce4",
   "metadata": {},
   "source": [
    "2. Data Loading and Overview:"
   ]
  },
  {
   "cell_type": "code",
   "execution_count": 3,
   "id": "b7c84def",
   "metadata": {},
   "outputs": [
    {
     "name": "stdout",
     "output_type": "stream",
     "text": [
      "      name  age  salary\n",
      "0    Alice   30   70000\n",
      "1      Bob   25   50000\n",
      "2  Charlie   35   80000\n"
     ]
    }
   ],
   "source": [
    "# Load your dataset\n",
    "data = pd.read_csv('data.csv')\n",
    "\n",
    "# Display the first few rows of the dataset\n",
    "print(data.head())"
   ]
  },
  {
   "cell_type": "markdown",
   "id": "90e0dfe4",
   "metadata": {},
   "source": [
    "3. Data Exploration:"
   ]
  },
  {
   "cell_type": "code",
   "execution_count": 6,
   "id": "358d5455",
   "metadata": {},
   "outputs": [
    {
     "name": "stdout",
     "output_type": "stream",
     "text": [
      "name      0\n",
      "age       0\n",
      "salary    0\n",
      "dtype: int64\n"
     ]
    }
   ],
   "source": [
    "# Check for missing values\n",
    "print(data.isnull().sum())"
   ]
  },
  {
   "cell_type": "code",
   "execution_count": 4,
   "id": "4b71d67b",
   "metadata": {},
   "outputs": [
    {
     "name": "stdout",
     "output_type": "stream",
     "text": [
      "        age        salary\n",
      "count   3.0      3.000000\n",
      "mean   30.0  66666.666667\n",
      "std     5.0  15275.252317\n",
      "min    25.0  50000.000000\n",
      "25%    27.5  60000.000000\n",
      "50%    30.0  70000.000000\n",
      "75%    32.5  75000.000000\n",
      "max    35.0  80000.000000\n"
     ]
    }
   ],
   "source": [
    "# Get a summary of the dataset\n",
    "print(data.describe())"
   ]
  },
  {
   "cell_type": "markdown",
   "id": "7b4d4b04",
   "metadata": {},
   "source": [
    "4. Data Visualization:"
   ]
  },
  {
   "cell_type": "code",
   "execution_count": 9,
   "id": "2686f069",
   "metadata": {},
   "outputs": [
    {
     "data": {
      "image/png": "[encoded data removed]",
      "text/plain": [
       "<Figure size 640x480 with 1 Axes>"
      ]
     },
     "metadata": {},
     "output_type": "display_data"
    }
   ],
   "source": [
    "# Visualize the data distribution for age\n",
    "sns.histplot(data['age'], bins=10, kde=True)\n",
    "plt.title('Age Distribution')\n",
    "plt.xlabel('Age')\n",
    "plt.ylabel('Frequency')\n",
    "plt.show()"
   ]
  },
  {
   "cell_type": "markdown",
   "id": "077a7766",
   "metadata": {},
   "source": [
    "5. Model Building:"
   ]
  },
  {
   "cell_type": "code",
   "execution_count": 7,
   "id": "f0697536",
   "metadata": {},
   "outputs": [],
   "source": [
    "from sklearn.model_selection import train_test_split\n",
    "from sklearn.linear_model import LinearRegression\n",
    "\n",
    "# Load your dataset again (if necessary)\n",
    "data = pd.read_csv('data.csv')\n",
    "\n",
    "# Prepare features and target variable\n",
    "X = data[['age']]\n",
    "y = data['salary']\n",
    "\n",
    "# Split the data into training and testing sets\n",
    "X_train, X_test, y_train, y_test = train_test_split(X, y, test_size=0.2, random_state=42)\n",
    "\n",
    "# Create the linear regression model\n",
    "model = LinearRegression()\n",
    "\n",
    "# Fit the model to the training data\n",
    "model.fit(X_train, y_train)\n",
    "\n",
    "# Make predictions on the test set\n",
    "predictions = model.predict(X_test)"
   ]
  },
  {
   "cell_type": "markdown",
   "id": "322d4eae",
   "metadata": {},
   "source": [
    "6. Model Evaluation"
   ]
  },
  {
   "cell_type": "code",
   "execution_count": 12,
   "id": "ba1b4f47",
   "metadata": {},
   "outputs": [
    {
     "name": "stdout",
     "output_type": "stream",
     "text": [
      "R² Score: Not applicable due to insufficient test samples.\n",
      "Mean Absolute Error: 5000.0\n",
      "Mean Squared Error: 25000000.0\n"
     ]
    }
   ],
   "source": [
    "from sklearn.metrics import mean_absolute_error, mean_squared_error\n",
    "\n",
    "# Make predictions\n",
    "predictions = model.predict(X_test)\n",
    "\n",
    "# Calculate metrics\n",
    "mae = mean_absolute_error(y_test, predictions)\n",
    "mse = mean_squared_error(y_test, predictions)\n",
    "\n",
    "print(f'R² Score: Not applicable due to insufficient test samples.')\n",
    "print(f'Mean Absolute Error: {mae}')\n",
    "print(f'Mean Squared Error: {mse}')"
   ]
  },
  {
   "cell_type": "markdown",
   "id": "6ed4338a",
   "metadata": {},
   "source": [
    "### Conclusion\n",
    "\n",
    "In this analysis, we explored the relationship between age and salary using a linear regression model. Here are the key findings:\n",
    "\n",
    "1. **Data Summary:** We successfully loaded and examined a dataset containing the ages and salaries of three individuals. The data showed no missing values, ensuring its integrity for analysis.\n",
    "\n",
    "2. **Model Building:** A linear regression model was built to predict salary based on age. Due to the limited sample size, we encountered challenges in evaluating the model's performance comprehensively.\n",
    "\n",
    "3. **Model Evaluation:** The evaluation metrics indicated that while we calculated the Mean Absolute Error (MAE) and Mean Squared Error (MSE), the R² score was not applicable due to insufficient test samples. This highlights the importance of having a larger dataset for more reliable model evaluation.\n",
    "\n",
    "### Implications\n",
    "\n",
    "This analysis demonstrates the potential of using linear regression for salary prediction based on age. However, the results emphasize the necessity of larger datasets to yield reliable insights and predictive power.\n",
    "\n",
    "### Future Work\n",
    "\n",
    "To enhance this analysis, future steps could include:\n",
    "- **Collecting More Data:** Increasing the sample size to better represent the population and improve model performance.\n",
    "- **Exploring Other Features:** Incorporating additional features, such as education level, experience, or industry, could lead to a more comprehensive model.\n",
    "- **Trying Different Models:** Evaluating different algorithms, such as polynomial regression or decision trees, to determine if they provide better predictive accuracy."
   ]
  },
  {
   "cell_type": "markdown",
   "id": "2d30cfbc",
   "metadata": {},
   "source": []
  }
 ],
 "metadata": {
  "kernelspec": {
   "display_name": "Python 3 (ipykernel)",
   "language": "python",
   "name": "python3"
  },
  "language_info": {
   "codemirror_mode": {
    "name": "ipython",
    "version": 3
   },
   "file_extension": ".py",
   "mimetype": "text/x-python",
   "name": "python",
   "nbconvert_exporter": "python",
   "pygments_lexer": "ipython3",
   "version": "3.12.6"
  }
 },
 "nbformat": 4,
 "nbformat_minor": 5
}
